{
 "cells": [
  {
   "cell_type": "code",
   "execution_count": 1,
   "id": "c4ba5d34",
   "metadata": {},
   "outputs": [],
   "source": [
    "import numpy as np \n",
    "import pandas as pd"
   ]
  },
  {
   "cell_type": "code",
   "execution_count": 2,
   "id": "f80fd47f",
   "metadata": {},
   "outputs": [],
   "source": [
    "df = pd.read_csv('crop_yield.csv')"
   ]
  },
  {
   "cell_type": "code",
   "execution_count": 3,
   "id": "ed135d22",
   "metadata": {},
   "outputs": [
    {
     "data": {
      "text/html": [
       "<div>\n",
       "<style scoped>\n",
       "    .dataframe tbody tr th:only-of-type {\n",
       "        vertical-align: middle;\n",
       "    }\n",
       "\n",
       "    .dataframe tbody tr th {\n",
       "        vertical-align: top;\n",
       "    }\n",
       "\n",
       "    .dataframe thead th {\n",
       "        text-align: right;\n",
       "    }\n",
       "</style>\n",
       "<table border=\"1\" class=\"dataframe\">\n",
       "  <thead>\n",
       "    <tr style=\"text-align: right;\">\n",
       "      <th></th>\n",
       "      <th>Crop</th>\n",
       "      <th>Crop_Year</th>\n",
       "      <th>Season</th>\n",
       "      <th>State</th>\n",
       "      <th>Area</th>\n",
       "      <th>Production</th>\n",
       "      <th>Annual_Rainfall</th>\n",
       "      <th>Fertilizer</th>\n",
       "      <th>Pesticide</th>\n",
       "      <th>Yield</th>\n",
       "    </tr>\n",
       "  </thead>\n",
       "  <tbody>\n",
       "    <tr>\n",
       "      <th>0</th>\n",
       "      <td>Arecanut</td>\n",
       "      <td>1997</td>\n",
       "      <td>Whole Year</td>\n",
       "      <td>Assam</td>\n",
       "      <td>73814.0</td>\n",
       "      <td>56708</td>\n",
       "      <td>2051.4</td>\n",
       "      <td>7024878.38</td>\n",
       "      <td>22882.34</td>\n",
       "      <td>0.796087</td>\n",
       "    </tr>\n",
       "    <tr>\n",
       "      <th>1</th>\n",
       "      <td>Arhar/Tur</td>\n",
       "      <td>1997</td>\n",
       "      <td>Kharif</td>\n",
       "      <td>Assam</td>\n",
       "      <td>6637.0</td>\n",
       "      <td>4685</td>\n",
       "      <td>2051.4</td>\n",
       "      <td>631643.29</td>\n",
       "      <td>2057.47</td>\n",
       "      <td>0.710435</td>\n",
       "    </tr>\n",
       "    <tr>\n",
       "      <th>2</th>\n",
       "      <td>Castor seed</td>\n",
       "      <td>1997</td>\n",
       "      <td>Kharif</td>\n",
       "      <td>Assam</td>\n",
       "      <td>796.0</td>\n",
       "      <td>22</td>\n",
       "      <td>2051.4</td>\n",
       "      <td>75755.32</td>\n",
       "      <td>246.76</td>\n",
       "      <td>0.238333</td>\n",
       "    </tr>\n",
       "    <tr>\n",
       "      <th>3</th>\n",
       "      <td>Coconut</td>\n",
       "      <td>1997</td>\n",
       "      <td>Whole Year</td>\n",
       "      <td>Assam</td>\n",
       "      <td>19656.0</td>\n",
       "      <td>126905000</td>\n",
       "      <td>2051.4</td>\n",
       "      <td>1870661.52</td>\n",
       "      <td>6093.36</td>\n",
       "      <td>5238.051739</td>\n",
       "    </tr>\n",
       "    <tr>\n",
       "      <th>4</th>\n",
       "      <td>Cotton(lint)</td>\n",
       "      <td>1997</td>\n",
       "      <td>Kharif</td>\n",
       "      <td>Assam</td>\n",
       "      <td>1739.0</td>\n",
       "      <td>794</td>\n",
       "      <td>2051.4</td>\n",
       "      <td>165500.63</td>\n",
       "      <td>539.09</td>\n",
       "      <td>0.420909</td>\n",
       "    </tr>\n",
       "  </tbody>\n",
       "</table>\n",
       "</div>"
      ],
      "text/plain": [
       "           Crop  Crop_Year       Season  State     Area  Production  \\\n",
       "0      Arecanut       1997  Whole Year   Assam  73814.0       56708   \n",
       "1     Arhar/Tur       1997  Kharif       Assam   6637.0        4685   \n",
       "2   Castor seed       1997  Kharif       Assam    796.0          22   \n",
       "3      Coconut        1997  Whole Year   Assam  19656.0   126905000   \n",
       "4  Cotton(lint)       1997  Kharif       Assam   1739.0         794   \n",
       "\n",
       "   Annual_Rainfall  Fertilizer  Pesticide        Yield  \n",
       "0           2051.4  7024878.38   22882.34     0.796087  \n",
       "1           2051.4   631643.29    2057.47     0.710435  \n",
       "2           2051.4    75755.32     246.76     0.238333  \n",
       "3           2051.4  1870661.52    6093.36  5238.051739  \n",
       "4           2051.4   165500.63     539.09     0.420909  "
      ]
     },
     "execution_count": 3,
     "metadata": {},
     "output_type": "execute_result"
    }
   ],
   "source": [
    "df.head(5)"
   ]
  },
  {
   "cell_type": "code",
   "execution_count": 4,
   "id": "ec6e95aa",
   "metadata": {},
   "outputs": [
    {
     "data": {
      "text/plain": [
       "array(['Whole Year ', 'Kharif     ', 'Rabi       ', 'Autumn     ',\n",
       "       'Summer     ', 'Winter     '], dtype=object)"
      ]
     },
     "execution_count": 4,
     "metadata": {},
     "output_type": "execute_result"
    }
   ],
   "source": [
    "df['Season'].unique()"
   ]
  },
  {
   "cell_type": "code",
   "execution_count": 5,
   "id": "f1e57f25",
   "metadata": {},
   "outputs": [
    {
     "data": {
      "text/plain": [
       "(19689, 10)"
      ]
     },
     "execution_count": 5,
     "metadata": {},
     "output_type": "execute_result"
    }
   ],
   "source": [
    "df.shape"
   ]
  },
  {
   "cell_type": "code",
   "execution_count": 6,
   "id": "4eeeae4e",
   "metadata": {},
   "outputs": [],
   "source": [
    "# removing spaces prresent in season column\n",
    "df['Season'] = df['Season'].str.strip()"
   ]
  },
  {
   "cell_type": "code",
   "execution_count": 7,
   "id": "6b823b2f",
   "metadata": {},
   "outputs": [],
   "source": [
    "# Convert Fertilizer and pesticide columns from kgs into tons\n",
    "\n",
    "df['Fertilizer'] = df['Fertilizer'].apply(lambda x: x/1000)\n",
    "df['Fertilizer'] = df['Fertilizer'].apply(lambda x: np.round(x,3))\n",
    "\n",
    "df['Pesticide'] = df['Pesticide'].apply(lambda x: x/1000)\n",
    "df['Pesticide'] = df['Pesticide'].apply(lambda x: np.round(x,3))"
   ]
  },
  {
   "cell_type": "code",
   "execution_count": 8,
   "id": "201f13ad",
   "metadata": {},
   "outputs": [],
   "source": [
    "# dropping this row because it's a extreme outlier\n",
    "df.drop(119, inplace=True)"
   ]
  },
  {
   "cell_type": "code",
   "execution_count": 9,
   "id": "bcf5fe95",
   "metadata": {},
   "outputs": [],
   "source": [
    "# Categorize crop_year\n",
    "bins = [1990, 2000, 2010, 2020]  # Example bins, adjust based on your data range\n",
    "labels = ['90s', '2000s', '2010s']\n",
    "df['Year_Interval'] = pd.cut(df['Crop_Year'], bins=bins, labels=labels)"
   ]
  },
  {
   "cell_type": "code",
   "execution_count": 10,
   "id": "4388b7a2",
   "metadata": {},
   "outputs": [],
   "source": [
    "df.drop(columns=['Crop_Year'],inplace=True)"
   ]
  },
  {
   "cell_type": "code",
   "execution_count": 11,
   "id": "ef422d59",
   "metadata": {},
   "outputs": [
    {
     "data": {
      "text/plain": [
       "(19688, 10)"
      ]
     },
     "execution_count": 11,
     "metadata": {},
     "output_type": "execute_result"
    }
   ],
   "source": [
    "df.shape"
   ]
  },
  {
   "cell_type": "code",
   "execution_count": 12,
   "id": "96dd1929",
   "metadata": {},
   "outputs": [
    {
     "data": {
      "text/plain": [
       "Index(['Crop', 'Season', 'State', 'Area', 'Production', 'Annual_Rainfall',\n",
       "       'Fertilizer', 'Pesticide', 'Yield', 'Year_Interval'],\n",
       "      dtype='object')"
      ]
     },
     "execution_count": 12,
     "metadata": {},
     "output_type": "execute_result"
    }
   ],
   "source": [
    "df.columns"
   ]
  },
  {
   "cell_type": "code",
   "execution_count": 13,
   "id": "d6740928",
   "metadata": {},
   "outputs": [
    {
     "name": "stdout",
     "output_type": "stream",
     "text": [
      "<class 'pandas.core.frame.DataFrame'>\n",
      "Index: 19688 entries, 0 to 19688\n",
      "Data columns (total 10 columns):\n",
      " #   Column           Non-Null Count  Dtype   \n",
      "---  ------           --------------  -----   \n",
      " 0   Crop             19688 non-null  object  \n",
      " 1   Season           19688 non-null  object  \n",
      " 2   State            19688 non-null  object  \n",
      " 3   Area             19688 non-null  float64 \n",
      " 4   Production       19688 non-null  int64   \n",
      " 5   Annual_Rainfall  19688 non-null  float64 \n",
      " 6   Fertilizer       19688 non-null  float64 \n",
      " 7   Pesticide        19688 non-null  float64 \n",
      " 8   Yield            19688 non-null  float64 \n",
      " 9   Year_Interval    19688 non-null  category\n",
      "dtypes: category(1), float64(5), int64(1), object(3)\n",
      "memory usage: 1.5+ MB\n"
     ]
    }
   ],
   "source": [
    "df.info()"
   ]
  },
  {
   "cell_type": "code",
   "execution_count": 14,
   "id": "a9473282",
   "metadata": {},
   "outputs": [
    {
     "data": {
      "text/html": [
       "<div>\n",
       "<style scoped>\n",
       "    .dataframe tbody tr th:only-of-type {\n",
       "        vertical-align: middle;\n",
       "    }\n",
       "\n",
       "    .dataframe tbody tr th {\n",
       "        vertical-align: top;\n",
       "    }\n",
       "\n",
       "    .dataframe thead th {\n",
       "        text-align: right;\n",
       "    }\n",
       "</style>\n",
       "<table border=\"1\" class=\"dataframe\">\n",
       "  <thead>\n",
       "    <tr style=\"text-align: right;\">\n",
       "      <th></th>\n",
       "      <th>Area</th>\n",
       "      <th>Production</th>\n",
       "      <th>Annual_Rainfall</th>\n",
       "      <th>Fertilizer</th>\n",
       "      <th>Pesticide</th>\n",
       "      <th>Yield</th>\n",
       "    </tr>\n",
       "  </thead>\n",
       "  <tbody>\n",
       "    <tr>\n",
       "      <th>count</th>\n",
       "      <td>1.968800e+04</td>\n",
       "      <td>1.968800e+04</td>\n",
       "      <td>19688.000000</td>\n",
       "      <td>1.968800e+04</td>\n",
       "      <td>19688.000000</td>\n",
       "      <td>19688.000000</td>\n",
       "    </tr>\n",
       "    <tr>\n",
       "      <th>mean</th>\n",
       "      <td>1.799352e+05</td>\n",
       "      <td>1.643678e+07</td>\n",
       "      <td>1437.734090</td>\n",
       "      <td>2.410448e+04</td>\n",
       "      <td>48.850667</td>\n",
       "      <td>79.958055</td>\n",
       "    </tr>\n",
       "    <tr>\n",
       "      <th>std</th>\n",
       "      <td>7.328463e+05</td>\n",
       "      <td>2.630635e+08</td>\n",
       "      <td>816.924978</td>\n",
       "      <td>9.494827e+04</td>\n",
       "      <td>213.292524</td>\n",
       "      <td>878.328316</td>\n",
       "    </tr>\n",
       "    <tr>\n",
       "      <th>min</th>\n",
       "      <td>5.000000e-01</td>\n",
       "      <td>0.000000e+00</td>\n",
       "      <td>301.300000</td>\n",
       "      <td>5.400000e-02</td>\n",
       "      <td>0.000000</td>\n",
       "      <td>0.000000</td>\n",
       "    </tr>\n",
       "    <tr>\n",
       "      <th>25%</th>\n",
       "      <td>1.390000e+03</td>\n",
       "      <td>1.392500e+03</td>\n",
       "      <td>940.700000</td>\n",
       "      <td>1.880085e+02</td>\n",
       "      <td>0.357000</td>\n",
       "      <td>0.600000</td>\n",
       "    </tr>\n",
       "    <tr>\n",
       "      <th>50%</th>\n",
       "      <td>9.316500e+03</td>\n",
       "      <td>1.380450e+04</td>\n",
       "      <td>1247.300000</td>\n",
       "      <td>1.235283e+03</td>\n",
       "      <td>2.421000</td>\n",
       "      <td>1.030111</td>\n",
       "    </tr>\n",
       "    <tr>\n",
       "      <th>75%</th>\n",
       "      <td>7.511900e+04</td>\n",
       "      <td>1.227295e+05</td>\n",
       "      <td>1643.700000</td>\n",
       "      <td>1.000514e+04</td>\n",
       "      <td>20.044750</td>\n",
       "      <td>2.388949</td>\n",
       "    </tr>\n",
       "    <tr>\n",
       "      <th>max</th>\n",
       "      <td>5.080810e+07</td>\n",
       "      <td>6.326000e+09</td>\n",
       "      <td>6552.700000</td>\n",
       "      <td>4.835407e+06</td>\n",
       "      <td>15750.511000</td>\n",
       "      <td>21105.000000</td>\n",
       "    </tr>\n",
       "  </tbody>\n",
       "</table>\n",
       "</div>"
      ],
      "text/plain": [
       "               Area    Production  Annual_Rainfall    Fertilizer  \\\n",
       "count  1.968800e+04  1.968800e+04     19688.000000  1.968800e+04   \n",
       "mean   1.799352e+05  1.643678e+07      1437.734090  2.410448e+04   \n",
       "std    7.328463e+05  2.630635e+08       816.924978  9.494827e+04   \n",
       "min    5.000000e-01  0.000000e+00       301.300000  5.400000e-02   \n",
       "25%    1.390000e+03  1.392500e+03       940.700000  1.880085e+02   \n",
       "50%    9.316500e+03  1.380450e+04      1247.300000  1.235283e+03   \n",
       "75%    7.511900e+04  1.227295e+05      1643.700000  1.000514e+04   \n",
       "max    5.080810e+07  6.326000e+09      6552.700000  4.835407e+06   \n",
       "\n",
       "          Pesticide         Yield  \n",
       "count  19688.000000  19688.000000  \n",
       "mean      48.850667     79.958055  \n",
       "std      213.292524    878.328316  \n",
       "min        0.000000      0.000000  \n",
       "25%        0.357000      0.600000  \n",
       "50%        2.421000      1.030111  \n",
       "75%       20.044750      2.388949  \n",
       "max    15750.511000  21105.000000  "
      ]
     },
     "execution_count": 14,
     "metadata": {},
     "output_type": "execute_result"
    }
   ],
   "source": [
    "df.describe()"
   ]
  },
  {
   "cell_type": "code",
   "execution_count": 15,
   "id": "2dbd2fff",
   "metadata": {},
   "outputs": [
    {
     "data": {
      "text/plain": [
       "['90s', '2000s', '2010s']\n",
       "Categories (3, object): ['90s' < '2000s' < '2010s']"
      ]
     },
     "execution_count": 15,
     "metadata": {},
     "output_type": "execute_result"
    }
   ],
   "source": [
    "df['Year_Interval'].unique()"
   ]
  },
  {
   "cell_type": "code",
   "execution_count": 16,
   "id": "5d1724b7",
   "metadata": {},
   "outputs": [
    {
     "data": {
      "text/plain": [
       "Index(['Crop', 'Season', 'State', 'Area', 'Production', 'Annual_Rainfall',\n",
       "       'Fertilizer', 'Pesticide', 'Yield', 'Year_Interval'],\n",
       "      dtype='object')"
      ]
     },
     "execution_count": 16,
     "metadata": {},
     "output_type": "execute_result"
    }
   ],
   "source": [
    "df.columns"
   ]
  },
  {
   "cell_type": "code",
   "execution_count": 17,
   "id": "406725b4",
   "metadata": {},
   "outputs": [
    {
     "data": {
      "text/html": [
       "<div>\n",
       "<style scoped>\n",
       "    .dataframe tbody tr th:only-of-type {\n",
       "        vertical-align: middle;\n",
       "    }\n",
       "\n",
       "    .dataframe tbody tr th {\n",
       "        vertical-align: top;\n",
       "    }\n",
       "\n",
       "    .dataframe thead th {\n",
       "        text-align: right;\n",
       "    }\n",
       "</style>\n",
       "<table border=\"1\" class=\"dataframe\">\n",
       "  <thead>\n",
       "    <tr style=\"text-align: right;\">\n",
       "      <th></th>\n",
       "      <th>Crop</th>\n",
       "      <th>Season</th>\n",
       "      <th>State</th>\n",
       "      <th>Area</th>\n",
       "      <th>Production</th>\n",
       "      <th>Annual_Rainfall</th>\n",
       "      <th>Fertilizer</th>\n",
       "      <th>Pesticide</th>\n",
       "      <th>Yield</th>\n",
       "      <th>Year_Interval</th>\n",
       "    </tr>\n",
       "  </thead>\n",
       "  <tbody>\n",
       "    <tr>\n",
       "      <th>0</th>\n",
       "      <td>Arecanut</td>\n",
       "      <td>Whole Year</td>\n",
       "      <td>Assam</td>\n",
       "      <td>73814.0</td>\n",
       "      <td>56708</td>\n",
       "      <td>2051.4</td>\n",
       "      <td>7024.878</td>\n",
       "      <td>22.882</td>\n",
       "      <td>0.796087</td>\n",
       "      <td>90s</td>\n",
       "    </tr>\n",
       "    <tr>\n",
       "      <th>1</th>\n",
       "      <td>Arhar/Tur</td>\n",
       "      <td>Kharif</td>\n",
       "      <td>Assam</td>\n",
       "      <td>6637.0</td>\n",
       "      <td>4685</td>\n",
       "      <td>2051.4</td>\n",
       "      <td>631.643</td>\n",
       "      <td>2.057</td>\n",
       "      <td>0.710435</td>\n",
       "      <td>90s</td>\n",
       "    </tr>\n",
       "    <tr>\n",
       "      <th>2</th>\n",
       "      <td>Castor seed</td>\n",
       "      <td>Kharif</td>\n",
       "      <td>Assam</td>\n",
       "      <td>796.0</td>\n",
       "      <td>22</td>\n",
       "      <td>2051.4</td>\n",
       "      <td>75.755</td>\n",
       "      <td>0.247</td>\n",
       "      <td>0.238333</td>\n",
       "      <td>90s</td>\n",
       "    </tr>\n",
       "    <tr>\n",
       "      <th>3</th>\n",
       "      <td>Coconut</td>\n",
       "      <td>Whole Year</td>\n",
       "      <td>Assam</td>\n",
       "      <td>19656.0</td>\n",
       "      <td>126905000</td>\n",
       "      <td>2051.4</td>\n",
       "      <td>1870.662</td>\n",
       "      <td>6.093</td>\n",
       "      <td>5238.051739</td>\n",
       "      <td>90s</td>\n",
       "    </tr>\n",
       "    <tr>\n",
       "      <th>4</th>\n",
       "      <td>Cotton(lint)</td>\n",
       "      <td>Kharif</td>\n",
       "      <td>Assam</td>\n",
       "      <td>1739.0</td>\n",
       "      <td>794</td>\n",
       "      <td>2051.4</td>\n",
       "      <td>165.501</td>\n",
       "      <td>0.539</td>\n",
       "      <td>0.420909</td>\n",
       "      <td>90s</td>\n",
       "    </tr>\n",
       "  </tbody>\n",
       "</table>\n",
       "</div>"
      ],
      "text/plain": [
       "           Crop      Season  State     Area  Production  Annual_Rainfall  \\\n",
       "0      Arecanut  Whole Year  Assam  73814.0       56708           2051.4   \n",
       "1     Arhar/Tur      Kharif  Assam   6637.0        4685           2051.4   \n",
       "2   Castor seed      Kharif  Assam    796.0          22           2051.4   \n",
       "3      Coconut   Whole Year  Assam  19656.0   126905000           2051.4   \n",
       "4  Cotton(lint)      Kharif  Assam   1739.0         794           2051.4   \n",
       "\n",
       "   Fertilizer  Pesticide        Yield Year_Interval  \n",
       "0    7024.878     22.882     0.796087           90s  \n",
       "1     631.643      2.057     0.710435           90s  \n",
       "2      75.755      0.247     0.238333           90s  \n",
       "3    1870.662      6.093  5238.051739           90s  \n",
       "4     165.501      0.539     0.420909           90s  "
      ]
     },
     "execution_count": 17,
     "metadata": {},
     "output_type": "execute_result"
    }
   ],
   "source": [
    "df.head(5)"
   ]
  },
  {
   "cell_type": "code",
   "execution_count": 18,
   "id": "cf4892d4",
   "metadata": {},
   "outputs": [],
   "source": [
    "num_col = ['Area','Production','Annual_Rainfall','Fertilizer','Pesticide']\n",
    "ordinal_col = ['Season','Year_Interval']\n",
    "nominal_col = ['Crop','State']\n",
    "season_order = ['Winter','Summer','Autumn','Rabi','Kharif','Whole Year']\n",
    "year_order = ['90s','2000s','2010s']"
   ]
  },
  {
   "cell_type": "code",
   "execution_count": 19,
   "id": "27719cae",
   "metadata": {},
   "outputs": [
    {
     "data": {
      "text/plain": [
       "array(['Whole Year', 'Kharif', 'Rabi', 'Autumn', 'Summer', 'Winter'],\n",
       "      dtype=object)"
      ]
     },
     "execution_count": 19,
     "metadata": {},
     "output_type": "execute_result"
    }
   ],
   "source": [
    "df['Season'].unique()"
   ]
  },
  {
   "cell_type": "code",
   "execution_count": 20,
   "id": "0c751ba1",
   "metadata": {},
   "outputs": [],
   "source": [
    "from sklearn.preprocessing import RobustScaler, PowerTransformer, OneHotEncoder, OrdinalEncoder\n",
    "from sklearn.model_selection import train_test_split\n",
    "from sklearn.compose import ColumnTransformer\n",
    "from sklearn.pipeline import Pipeline"
   ]
  },
  {
   "cell_type": "code",
   "execution_count": 21,
   "id": "8d93fe10",
   "metadata": {},
   "outputs": [],
   "source": [
    "X = df.drop(columns=['Yield'])\n",
    "y = df[['Yield']]"
   ]
  },
  {
   "cell_type": "code",
   "execution_count": 22,
   "id": "adaace64",
   "metadata": {},
   "outputs": [],
   "source": [
    "X_train,X_test,y_train,y_test = train_test_split(X,y,test_size=0.2,random_state=42)"
   ]
  },
  {
   "cell_type": "code",
   "execution_count": 23,
   "id": "3c512b8b",
   "metadata": {},
   "outputs": [],
   "source": [
    "preprocessor = ColumnTransformer(transformers=[\n",
    "    ('yeo_johnson_transform', PowerTransformer(method='yeo-johnson'), num_col),\n",
    "    ('robust_scaler', RobustScaler(),num_col),\n",
    "    ('Season_order', OrdinalEncoder(categories=[['Winter','Summer','Autumn','Rabi','Kharif','Whole Year']]), ['Season']),\n",
    "    ('Year_order',OrdinalEncoder(categories=[['90s','2000s','2010s']]), ['Year_Interval']),\n",
    "    ('OHE', OneHotEncoder(drop='first',handle_unknown='ignore'), nominal_col)\n",
    "], remainder='passthrough')"
   ]
  },
  {
   "cell_type": "code",
   "execution_count": 24,
   "id": "a9ad5d3a",
   "metadata": {},
   "outputs": [],
   "source": [
    "from sklearn.ensemble import RandomForestRegressor\n",
    "from sklearn.feature_selection import SelectKBest, f_classif"
   ]
  },
  {
   "cell_type": "code",
   "execution_count": 25,
   "id": "e702da54",
   "metadata": {},
   "outputs": [],
   "source": [
    "# Feature selection using KBest method to reduce curse of dimensionality\n",
    "kbest = SelectKBest(score_func=f_classif, k=30)"
   ]
  },
  {
   "cell_type": "code",
   "execution_count": 26,
   "id": "a6e67a14",
   "metadata": {},
   "outputs": [],
   "source": [
    "# After hyperparameter tuning best parameters are selected to reduce runtime and increse performance of model\n",
    "rf = RandomForestRegressor(max_features=0.75, max_samples=0.75, n_estimators=400, n_jobs=-1)"
   ]
  },
  {
   "cell_type": "code",
   "execution_count": 27,
   "id": "ab01af75",
   "metadata": {},
   "outputs": [],
   "source": [
    "pipe = Pipeline(steps=[\n",
    "    ('preprocessor', preprocessor),\n",
    "    ('kbest', kbest),\n",
    "    ('RF_regressor', rf)\n",
    "])"
   ]
  },
  {
   "cell_type": "code",
   "execution_count": 28,
   "id": "26a9db0d",
   "metadata": {},
   "outputs": [
    {
     "data": {
      "text/html": [
       "<style>#sk-container-id-1 {color: black;}#sk-container-id-1 pre{padding: 0;}#sk-container-id-1 div.sk-toggleable {background-color: white;}#sk-container-id-1 label.sk-toggleable__label {cursor: pointer;display: block;width: 100%;margin-bottom: 0;padding: 0.3em;box-sizing: border-box;text-align: center;}#sk-container-id-1 label.sk-toggleable__label-arrow:before {content: \"▸\";float: left;margin-right: 0.25em;color: #696969;}#sk-container-id-1 label.sk-toggleable__label-arrow:hover:before {color: black;}#sk-container-id-1 div.sk-estimator:hover label.sk-toggleable__label-arrow:before {color: black;}#sk-container-id-1 div.sk-toggleable__content {max-height: 0;max-width: 0;overflow: hidden;text-align: left;background-color: #f0f8ff;}#sk-container-id-1 div.sk-toggleable__content pre {margin: 0.2em;color: black;border-radius: 0.25em;background-color: #f0f8ff;}#sk-container-id-1 input.sk-toggleable__control:checked~div.sk-toggleable__content {max-height: 200px;max-width: 100%;overflow: auto;}#sk-container-id-1 input.sk-toggleable__control:checked~label.sk-toggleable__label-arrow:before {content: \"▾\";}#sk-container-id-1 div.sk-estimator input.sk-toggleable__control:checked~label.sk-toggleable__label {background-color: #d4ebff;}#sk-container-id-1 div.sk-label input.sk-toggleable__control:checked~label.sk-toggleable__label {background-color: #d4ebff;}#sk-container-id-1 input.sk-hidden--visually {border: 0;clip: rect(1px 1px 1px 1px);clip: rect(1px, 1px, 1px, 1px);height: 1px;margin: -1px;overflow: hidden;padding: 0;position: absolute;width: 1px;}#sk-container-id-1 div.sk-estimator {font-family: monospace;background-color: #f0f8ff;border: 1px dotted black;border-radius: 0.25em;box-sizing: border-box;margin-bottom: 0.5em;}#sk-container-id-1 div.sk-estimator:hover {background-color: #d4ebff;}#sk-container-id-1 div.sk-parallel-item::after {content: \"\";width: 100%;border-bottom: 1px solid gray;flex-grow: 1;}#sk-container-id-1 div.sk-label:hover label.sk-toggleable__label {background-color: #d4ebff;}#sk-container-id-1 div.sk-serial::before {content: \"\";position: absolute;border-left: 1px solid gray;box-sizing: border-box;top: 0;bottom: 0;left: 50%;z-index: 0;}#sk-container-id-1 div.sk-serial {display: flex;flex-direction: column;align-items: center;background-color: white;padding-right: 0.2em;padding-left: 0.2em;position: relative;}#sk-container-id-1 div.sk-item {position: relative;z-index: 1;}#sk-container-id-1 div.sk-parallel {display: flex;align-items: stretch;justify-content: center;background-color: white;position: relative;}#sk-container-id-1 div.sk-item::before, #sk-container-id-1 div.sk-parallel-item::before {content: \"\";position: absolute;border-left: 1px solid gray;box-sizing: border-box;top: 0;bottom: 0;left: 50%;z-index: -1;}#sk-container-id-1 div.sk-parallel-item {display: flex;flex-direction: column;z-index: 1;position: relative;background-color: white;}#sk-container-id-1 div.sk-parallel-item:first-child::after {align-self: flex-end;width: 50%;}#sk-container-id-1 div.sk-parallel-item:last-child::after {align-self: flex-start;width: 50%;}#sk-container-id-1 div.sk-parallel-item:only-child::after {width: 0;}#sk-container-id-1 div.sk-dashed-wrapped {border: 1px dashed gray;margin: 0 0.4em 0.5em 0.4em;box-sizing: border-box;padding-bottom: 0.4em;background-color: white;}#sk-container-id-1 div.sk-label label {font-family: monospace;font-weight: bold;display: inline-block;line-height: 1.2em;}#sk-container-id-1 div.sk-label-container {text-align: center;}#sk-container-id-1 div.sk-container {/* jupyter's `normalize.less` sets `[hidden] { display: none; }` but bootstrap.min.css set `[hidden] { display: none !important; }` so we also need the `!important` here to be able to override the default hidden behavior on the sphinx rendered scikit-learn.org. See: https://github.com/scikit-learn/scikit-learn/issues/21755 */display: inline-block !important;position: relative;}#sk-container-id-1 div.sk-text-repr-fallback {display: none;}</style><div id=\"sk-container-id-1\" class=\"sk-top-container\"><div class=\"sk-text-repr-fallback\"><pre>Pipeline(steps=[(&#x27;preprocessor&#x27;,\n",
       "                 ColumnTransformer(remainder=&#x27;passthrough&#x27;,\n",
       "                                   transformers=[(&#x27;yeo_johnson_transform&#x27;,\n",
       "                                                  PowerTransformer(),\n",
       "                                                  [&#x27;Area&#x27;, &#x27;Production&#x27;,\n",
       "                                                   &#x27;Annual_Rainfall&#x27;,\n",
       "                                                   &#x27;Fertilizer&#x27;, &#x27;Pesticide&#x27;]),\n",
       "                                                 (&#x27;robust_scaler&#x27;,\n",
       "                                                  RobustScaler(),\n",
       "                                                  [&#x27;Area&#x27;, &#x27;Production&#x27;,\n",
       "                                                   &#x27;Annual_Rainfall&#x27;,\n",
       "                                                   &#x27;Fertilizer&#x27;, &#x27;Pesticide&#x27;]),\n",
       "                                                 (&#x27;Season_order&#x27;,\n",
       "                                                  OrdinalEncoder(categories=[[&#x27;Winter&#x27;,\n",
       "                                                                              &#x27;...\n",
       "                                                                              &#x27;Autumn&#x27;,\n",
       "                                                                              &#x27;Rabi&#x27;,\n",
       "                                                                              &#x27;Kharif&#x27;,\n",
       "                                                                              &#x27;Whole &#x27;\n",
       "                                                                              &#x27;Year&#x27;]]),\n",
       "                                                  [&#x27;Season&#x27;]),\n",
       "                                                 (&#x27;Year_order&#x27;,\n",
       "                                                  OrdinalEncoder(categories=[[&#x27;90s&#x27;,\n",
       "                                                                              &#x27;2000s&#x27;,\n",
       "                                                                              &#x27;2010s&#x27;]]),\n",
       "                                                  [&#x27;Year_Interval&#x27;]),\n",
       "                                                 (&#x27;OHE&#x27;,\n",
       "                                                  OneHotEncoder(drop=&#x27;first&#x27;,\n",
       "                                                                handle_unknown=&#x27;ignore&#x27;),\n",
       "                                                  [&#x27;Crop&#x27;, &#x27;State&#x27;])])),\n",
       "                (&#x27;kbest&#x27;, SelectKBest(k=30)),\n",
       "                (&#x27;RF_regressor&#x27;,\n",
       "                 RandomForestRegressor(max_features=0.75, max_samples=0.75,\n",
       "                                       n_estimators=400, n_jobs=-1))])</pre><b>In a Jupyter environment, please rerun this cell to show the HTML representation or trust the notebook. <br />On GitHub, the HTML representation is unable to render, please try loading this page with nbviewer.org.</b></div><div class=\"sk-container\" hidden><div class=\"sk-item sk-dashed-wrapped\"><div class=\"sk-label-container\"><div class=\"sk-label sk-toggleable\"><input class=\"sk-toggleable__control sk-hidden--visually\" id=\"sk-estimator-id-1\" type=\"checkbox\" ><label for=\"sk-estimator-id-1\" class=\"sk-toggleable__label sk-toggleable__label-arrow\">Pipeline</label><div class=\"sk-toggleable__content\"><pre>Pipeline(steps=[(&#x27;preprocessor&#x27;,\n",
       "                 ColumnTransformer(remainder=&#x27;passthrough&#x27;,\n",
       "                                   transformers=[(&#x27;yeo_johnson_transform&#x27;,\n",
       "                                                  PowerTransformer(),\n",
       "                                                  [&#x27;Area&#x27;, &#x27;Production&#x27;,\n",
       "                                                   &#x27;Annual_Rainfall&#x27;,\n",
       "                                                   &#x27;Fertilizer&#x27;, &#x27;Pesticide&#x27;]),\n",
       "                                                 (&#x27;robust_scaler&#x27;,\n",
       "                                                  RobustScaler(),\n",
       "                                                  [&#x27;Area&#x27;, &#x27;Production&#x27;,\n",
       "                                                   &#x27;Annual_Rainfall&#x27;,\n",
       "                                                   &#x27;Fertilizer&#x27;, &#x27;Pesticide&#x27;]),\n",
       "                                                 (&#x27;Season_order&#x27;,\n",
       "                                                  OrdinalEncoder(categories=[[&#x27;Winter&#x27;,\n",
       "                                                                              &#x27;...\n",
       "                                                                              &#x27;Autumn&#x27;,\n",
       "                                                                              &#x27;Rabi&#x27;,\n",
       "                                                                              &#x27;Kharif&#x27;,\n",
       "                                                                              &#x27;Whole &#x27;\n",
       "                                                                              &#x27;Year&#x27;]]),\n",
       "                                                  [&#x27;Season&#x27;]),\n",
       "                                                 (&#x27;Year_order&#x27;,\n",
       "                                                  OrdinalEncoder(categories=[[&#x27;90s&#x27;,\n",
       "                                                                              &#x27;2000s&#x27;,\n",
       "                                                                              &#x27;2010s&#x27;]]),\n",
       "                                                  [&#x27;Year_Interval&#x27;]),\n",
       "                                                 (&#x27;OHE&#x27;,\n",
       "                                                  OneHotEncoder(drop=&#x27;first&#x27;,\n",
       "                                                                handle_unknown=&#x27;ignore&#x27;),\n",
       "                                                  [&#x27;Crop&#x27;, &#x27;State&#x27;])])),\n",
       "                (&#x27;kbest&#x27;, SelectKBest(k=30)),\n",
       "                (&#x27;RF_regressor&#x27;,\n",
       "                 RandomForestRegressor(max_features=0.75, max_samples=0.75,\n",
       "                                       n_estimators=400, n_jobs=-1))])</pre></div></div></div><div class=\"sk-serial\"><div class=\"sk-item sk-dashed-wrapped\"><div class=\"sk-label-container\"><div class=\"sk-label sk-toggleable\"><input class=\"sk-toggleable__control sk-hidden--visually\" id=\"sk-estimator-id-2\" type=\"checkbox\" ><label for=\"sk-estimator-id-2\" class=\"sk-toggleable__label sk-toggleable__label-arrow\">preprocessor: ColumnTransformer</label><div class=\"sk-toggleable__content\"><pre>ColumnTransformer(remainder=&#x27;passthrough&#x27;,\n",
       "                  transformers=[(&#x27;yeo_johnson_transform&#x27;, PowerTransformer(),\n",
       "                                 [&#x27;Area&#x27;, &#x27;Production&#x27;, &#x27;Annual_Rainfall&#x27;,\n",
       "                                  &#x27;Fertilizer&#x27;, &#x27;Pesticide&#x27;]),\n",
       "                                (&#x27;robust_scaler&#x27;, RobustScaler(),\n",
       "                                 [&#x27;Area&#x27;, &#x27;Production&#x27;, &#x27;Annual_Rainfall&#x27;,\n",
       "                                  &#x27;Fertilizer&#x27;, &#x27;Pesticide&#x27;]),\n",
       "                                (&#x27;Season_order&#x27;,\n",
       "                                 OrdinalEncoder(categories=[[&#x27;Winter&#x27;, &#x27;Summer&#x27;,\n",
       "                                                             &#x27;Autumn&#x27;, &#x27;Rabi&#x27;,\n",
       "                                                             &#x27;Kharif&#x27;,\n",
       "                                                             &#x27;Whole Year&#x27;]]),\n",
       "                                 [&#x27;Season&#x27;]),\n",
       "                                (&#x27;Year_order&#x27;,\n",
       "                                 OrdinalEncoder(categories=[[&#x27;90s&#x27;, &#x27;2000s&#x27;,\n",
       "                                                             &#x27;2010s&#x27;]]),\n",
       "                                 [&#x27;Year_Interval&#x27;]),\n",
       "                                (&#x27;OHE&#x27;,\n",
       "                                 OneHotEncoder(drop=&#x27;first&#x27;,\n",
       "                                               handle_unknown=&#x27;ignore&#x27;),\n",
       "                                 [&#x27;Crop&#x27;, &#x27;State&#x27;])])</pre></div></div></div><div class=\"sk-parallel\"><div class=\"sk-parallel-item\"><div class=\"sk-item\"><div class=\"sk-label-container\"><div class=\"sk-label sk-toggleable\"><input class=\"sk-toggleable__control sk-hidden--visually\" id=\"sk-estimator-id-3\" type=\"checkbox\" ><label for=\"sk-estimator-id-3\" class=\"sk-toggleable__label sk-toggleable__label-arrow\">yeo_johnson_transform</label><div class=\"sk-toggleable__content\"><pre>[&#x27;Area&#x27;, &#x27;Production&#x27;, &#x27;Annual_Rainfall&#x27;, &#x27;Fertilizer&#x27;, &#x27;Pesticide&#x27;]</pre></div></div></div><div class=\"sk-serial\"><div class=\"sk-item\"><div class=\"sk-estimator sk-toggleable\"><input class=\"sk-toggleable__control sk-hidden--visually\" id=\"sk-estimator-id-4\" type=\"checkbox\" ><label for=\"sk-estimator-id-4\" class=\"sk-toggleable__label sk-toggleable__label-arrow\">PowerTransformer</label><div class=\"sk-toggleable__content\"><pre>PowerTransformer()</pre></div></div></div></div></div></div><div class=\"sk-parallel-item\"><div class=\"sk-item\"><div class=\"sk-label-container\"><div class=\"sk-label sk-toggleable\"><input class=\"sk-toggleable__control sk-hidden--visually\" id=\"sk-estimator-id-5\" type=\"checkbox\" ><label for=\"sk-estimator-id-5\" class=\"sk-toggleable__label sk-toggleable__label-arrow\">robust_scaler</label><div class=\"sk-toggleable__content\"><pre>[&#x27;Area&#x27;, &#x27;Production&#x27;, &#x27;Annual_Rainfall&#x27;, &#x27;Fertilizer&#x27;, &#x27;Pesticide&#x27;]</pre></div></div></div><div class=\"sk-serial\"><div class=\"sk-item\"><div class=\"sk-estimator sk-toggleable\"><input class=\"sk-toggleable__control sk-hidden--visually\" id=\"sk-estimator-id-6\" type=\"checkbox\" ><label for=\"sk-estimator-id-6\" class=\"sk-toggleable__label sk-toggleable__label-arrow\">RobustScaler</label><div class=\"sk-toggleable__content\"><pre>RobustScaler()</pre></div></div></div></div></div></div><div class=\"sk-parallel-item\"><div class=\"sk-item\"><div class=\"sk-label-container\"><div class=\"sk-label sk-toggleable\"><input class=\"sk-toggleable__control sk-hidden--visually\" id=\"sk-estimator-id-7\" type=\"checkbox\" ><label for=\"sk-estimator-id-7\" class=\"sk-toggleable__label sk-toggleable__label-arrow\">Season_order</label><div class=\"sk-toggleable__content\"><pre>[&#x27;Season&#x27;]</pre></div></div></div><div class=\"sk-serial\"><div class=\"sk-item\"><div class=\"sk-estimator sk-toggleable\"><input class=\"sk-toggleable__control sk-hidden--visually\" id=\"sk-estimator-id-8\" type=\"checkbox\" ><label for=\"sk-estimator-id-8\" class=\"sk-toggleable__label sk-toggleable__label-arrow\">OrdinalEncoder</label><div class=\"sk-toggleable__content\"><pre>OrdinalEncoder(categories=[[&#x27;Winter&#x27;, &#x27;Summer&#x27;, &#x27;Autumn&#x27;, &#x27;Rabi&#x27;, &#x27;Kharif&#x27;,\n",
       "                            &#x27;Whole Year&#x27;]])</pre></div></div></div></div></div></div><div class=\"sk-parallel-item\"><div class=\"sk-item\"><div class=\"sk-label-container\"><div class=\"sk-label sk-toggleable\"><input class=\"sk-toggleable__control sk-hidden--visually\" id=\"sk-estimator-id-9\" type=\"checkbox\" ><label for=\"sk-estimator-id-9\" class=\"sk-toggleable__label sk-toggleable__label-arrow\">Year_order</label><div class=\"sk-toggleable__content\"><pre>[&#x27;Year_Interval&#x27;]</pre></div></div></div><div class=\"sk-serial\"><div class=\"sk-item\"><div class=\"sk-estimator sk-toggleable\"><input class=\"sk-toggleable__control sk-hidden--visually\" id=\"sk-estimator-id-10\" type=\"checkbox\" ><label for=\"sk-estimator-id-10\" class=\"sk-toggleable__label sk-toggleable__label-arrow\">OrdinalEncoder</label><div class=\"sk-toggleable__content\"><pre>OrdinalEncoder(categories=[[&#x27;90s&#x27;, &#x27;2000s&#x27;, &#x27;2010s&#x27;]])</pre></div></div></div></div></div></div><div class=\"sk-parallel-item\"><div class=\"sk-item\"><div class=\"sk-label-container\"><div class=\"sk-label sk-toggleable\"><input class=\"sk-toggleable__control sk-hidden--visually\" id=\"sk-estimator-id-11\" type=\"checkbox\" ><label for=\"sk-estimator-id-11\" class=\"sk-toggleable__label sk-toggleable__label-arrow\">OHE</label><div class=\"sk-toggleable__content\"><pre>[&#x27;Crop&#x27;, &#x27;State&#x27;]</pre></div></div></div><div class=\"sk-serial\"><div class=\"sk-item\"><div class=\"sk-estimator sk-toggleable\"><input class=\"sk-toggleable__control sk-hidden--visually\" id=\"sk-estimator-id-12\" type=\"checkbox\" ><label for=\"sk-estimator-id-12\" class=\"sk-toggleable__label sk-toggleable__label-arrow\">OneHotEncoder</label><div class=\"sk-toggleable__content\"><pre>OneHotEncoder(drop=&#x27;first&#x27;, handle_unknown=&#x27;ignore&#x27;)</pre></div></div></div></div></div></div><div class=\"sk-parallel-item\"><div class=\"sk-item\"><div class=\"sk-label-container\"><div class=\"sk-label sk-toggleable\"><input class=\"sk-toggleable__control sk-hidden--visually\" id=\"sk-estimator-id-13\" type=\"checkbox\" ><label for=\"sk-estimator-id-13\" class=\"sk-toggleable__label sk-toggleable__label-arrow\">remainder</label><div class=\"sk-toggleable__content\"><pre>[]</pre></div></div></div><div class=\"sk-serial\"><div class=\"sk-item\"><div class=\"sk-estimator sk-toggleable\"><input class=\"sk-toggleable__control sk-hidden--visually\" id=\"sk-estimator-id-14\" type=\"checkbox\" ><label for=\"sk-estimator-id-14\" class=\"sk-toggleable__label sk-toggleable__label-arrow\">passthrough</label><div class=\"sk-toggleable__content\"><pre>passthrough</pre></div></div></div></div></div></div></div></div><div class=\"sk-item\"><div class=\"sk-estimator sk-toggleable\"><input class=\"sk-toggleable__control sk-hidden--visually\" id=\"sk-estimator-id-15\" type=\"checkbox\" ><label for=\"sk-estimator-id-15\" class=\"sk-toggleable__label sk-toggleable__label-arrow\">SelectKBest</label><div class=\"sk-toggleable__content\"><pre>SelectKBest(k=30)</pre></div></div></div><div class=\"sk-item\"><div class=\"sk-estimator sk-toggleable\"><input class=\"sk-toggleable__control sk-hidden--visually\" id=\"sk-estimator-id-16\" type=\"checkbox\" ><label for=\"sk-estimator-id-16\" class=\"sk-toggleable__label sk-toggleable__label-arrow\">RandomForestRegressor</label><div class=\"sk-toggleable__content\"><pre>RandomForestRegressor(max_features=0.75, max_samples=0.75, n_estimators=400,\n",
       "                      n_jobs=-1)</pre></div></div></div></div></div></div></div>"
      ],
      "text/plain": [
       "Pipeline(steps=[('preprocessor',\n",
       "                 ColumnTransformer(remainder='passthrough',\n",
       "                                   transformers=[('yeo_johnson_transform',\n",
       "                                                  PowerTransformer(),\n",
       "                                                  ['Area', 'Production',\n",
       "                                                   'Annual_Rainfall',\n",
       "                                                   'Fertilizer', 'Pesticide']),\n",
       "                                                 ('robust_scaler',\n",
       "                                                  RobustScaler(),\n",
       "                                                  ['Area', 'Production',\n",
       "                                                   'Annual_Rainfall',\n",
       "                                                   'Fertilizer', 'Pesticide']),\n",
       "                                                 ('Season_order',\n",
       "                                                  OrdinalEncoder(categories=[['Winter',\n",
       "                                                                              '...\n",
       "                                                                              'Autumn',\n",
       "                                                                              'Rabi',\n",
       "                                                                              'Kharif',\n",
       "                                                                              'Whole '\n",
       "                                                                              'Year']]),\n",
       "                                                  ['Season']),\n",
       "                                                 ('Year_order',\n",
       "                                                  OrdinalEncoder(categories=[['90s',\n",
       "                                                                              '2000s',\n",
       "                                                                              '2010s']]),\n",
       "                                                  ['Year_Interval']),\n",
       "                                                 ('OHE',\n",
       "                                                  OneHotEncoder(drop='first',\n",
       "                                                                handle_unknown='ignore'),\n",
       "                                                  ['Crop', 'State'])])),\n",
       "                ('kbest', SelectKBest(k=30)),\n",
       "                ('RF_regressor',\n",
       "                 RandomForestRegressor(max_features=0.75, max_samples=0.75,\n",
       "                                       n_estimators=400, n_jobs=-1))])"
      ]
     },
     "execution_count": 28,
     "metadata": {},
     "output_type": "execute_result"
    }
   ],
   "source": [
    "pipe.fit(X_train,y_train.values.ravel())"
   ]
  },
  {
   "cell_type": "code",
   "execution_count": 29,
   "id": "3963bd82",
   "metadata": {},
   "outputs": [],
   "source": [
    "y_pred = pipe.predict(X_test)"
   ]
  },
  {
   "cell_type": "code",
   "execution_count": 30,
   "id": "12a13658",
   "metadata": {},
   "outputs": [
    {
     "data": {
      "text/plain": [
       "0.9741363158896972"
      ]
     },
     "execution_count": 30,
     "metadata": {},
     "output_type": "execute_result"
    }
   ],
   "source": [
    "from sklearn.metrics import accuracy_score, r2_score\n",
    "r2_score(y_test,y_pred)"
   ]
  },
  {
   "cell_type": "code",
   "execution_count": null,
   "id": "5fcdabe4",
   "metadata": {},
   "outputs": [],
   "source": []
  }
 ],
 "metadata": {
  "kernelspec": {
   "display_name": "Python 3 (ipykernel)",
   "language": "python",
   "name": "python3"
  },
  "language_info": {
   "codemirror_mode": {
    "name": "ipython",
    "version": 3
   },
   "file_extension": ".py",
   "mimetype": "text/x-python",
   "name": "python",
   "nbconvert_exporter": "python",
   "pygments_lexer": "ipython3",
   "version": "3.11.5"
  }
 },
 "nbformat": 4,
 "nbformat_minor": 5
}
